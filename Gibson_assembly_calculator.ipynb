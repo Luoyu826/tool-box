{
 "cells": [
  {
   "cell_type": "code",
   "execution_count": 1,
   "id": "0bff67be",
   "metadata": {},
   "outputs": [],
   "source": [
    "# gibson assembly mass of vector and insert calculator\n",
    "# 2-3 fragments\n",
    "def mass_calculator(len_vector, len_insert):\n",
    "    # assumes uses 50-100ng of vector\n",
    "    ng_vector = 100\n",
    "    pmol_vector = ng_vector*1000/(len_vector*650)\n",
    "    # 3 fold of pmol_vector\n",
    "    pmol_insert = 3*pmol_vector\n",
    "    mass_insert = pmol_insert*(len_insert*650)/1000\n",
    "    print(\"mass of the vector needed: \" + str(ng_vector)+\"ng\")\n",
    "    print(\"pmol of the vector: \" + str(pmol_vector)+\"pmol\")\n",
    "    print(\"mass of the insert needed: \" + str(mass_insert)+\"ng\")\n",
    "    return"
   ]
  },
  {
   "cell_type": "code",
   "execution_count": 2,
   "id": "53b62630",
   "metadata": {},
   "outputs": [
    {
     "name": "stdout",
     "output_type": "stream",
     "text": [
      "mass of the vector needed: 100ng\n",
      "pmol of the vector: 0.03856759935977785pmol\n",
      "mass of the insert needed: 77.76385058912007ng\n"
     ]
    }
   ],
   "source": [
    "mass_calculator(3989, 1034)"
   ]
  },
  {
   "cell_type": "code",
   "execution_count": null,
   "id": "718ae5ca",
   "metadata": {},
   "outputs": [],
   "source": []
  }
 ],
 "metadata": {
  "kernelspec": {
   "display_name": "Python 3 (ipykernel)",
   "language": "python",
   "name": "python3"
  },
  "language_info": {
   "codemirror_mode": {
    "name": "ipython",
    "version": 3
   },
   "file_extension": ".py",
   "mimetype": "text/x-python",
   "name": "python",
   "nbconvert_exporter": "python",
   "pygments_lexer": "ipython3",
   "version": "3.9.12"
  }
 },
 "nbformat": 4,
 "nbformat_minor": 5
}
