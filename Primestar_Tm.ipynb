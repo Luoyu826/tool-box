{
 "cells": [
  {
   "cell_type": "code",
   "execution_count": 1,
   "id": "f4f62e16",
   "metadata": {},
   "outputs": [],
   "source": [
    "def tm_calc(seq):\n",
    "    AT = 0\n",
    "    CG = 0\n",
    "    for nucleotide in seq:\n",
    "        if nucleotide == 'A' or nucleotide == 'T':\n",
    "            AT += 1\n",
    "        else:\n",
    "            CG += 1\n",
    "    return AT*2+CG*4-5"
   ]
  },
  {
   "cell_type": "code",
   "execution_count": 2,
   "id": "4eb1e970",
   "metadata": {},
   "outputs": [
    {
     "name": "stdout",
     "output_type": "stream",
     "text": [
      "53\n",
      "57\n"
     ]
    }
   ],
   "source": [
    "print(tm_calc('TGCTTGGCCAAAAAGAGAGT'))\n",
    "print(tm_calc('TTGTAGGGAGCCCAGAAGAG'))"
   ]
  },
  {
   "cell_type": "code",
   "execution_count": null,
   "id": "effc8606",
   "metadata": {},
   "outputs": [],
   "source": []
  }
 ],
 "metadata": {
  "kernelspec": {
   "display_name": "Python 3 (ipykernel)",
   "language": "python",
   "name": "python3"
  },
  "language_info": {
   "codemirror_mode": {
    "name": "ipython",
    "version": 3
   },
   "file_extension": ".py",
   "mimetype": "text/x-python",
   "name": "python",
   "nbconvert_exporter": "python",
   "pygments_lexer": "ipython3",
   "version": "3.9.12"
  }
 },
 "nbformat": 4,
 "nbformat_minor": 5
}
