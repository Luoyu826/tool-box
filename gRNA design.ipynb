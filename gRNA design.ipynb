{
 "cells": [
  {
   "cell_type": "code",
   "execution_count": 2,
   "id": "89803bcd",
   "metadata": {},
   "outputs": [],
   "source": [
    "def add_bbs1(grna):\n",
    "    gRNA = grna.upper()\n",
    "    plus = 'CACC' + grna\n",
    "    minus = reverse_minus(get_minus(grna) + 'CAAA')\n",
    "\n",
    "    return plus, minus"
   ]
  },
  {
   "cell_type": "code",
   "execution_count": 3,
   "id": "a20443da",
   "metadata": {},
   "outputs": [],
   "source": [
    "def get_minus(plus):\n",
    "    minus = ''\n",
    "    plus = plus.upper()\n",
    "    for i in plus:\n",
    "        if i == 'A':\n",
    "            minus += 'T'\n",
    "        if i == 'T':\n",
    "            minus += 'A'\n",
    "        if i == 'C':\n",
    "            minus += 'G'\n",
    "        if i == 'G':\n",
    "            minus += 'C'\n",
    "    return minus\n",
    "\n",
    "def reverse_minus(minus):\n",
    "    i = len(minus)-1\n",
    "    reversed_minus = ''\n",
    "    while i>=0:\n",
    "        reversed_minus += minus[i]\n",
    "        i -= 1\n",
    "        \n",
    "    return reversed_minus"
   ]
  },
  {
   "cell_type": "code",
   "execution_count": 4,
   "id": "517db3f3",
   "metadata": {},
   "outputs": [
    {
     "name": "stdout",
     "output_type": "stream",
     "text": [
      "('CACCTATCGCCTTGTTCCAAGCGA', 'AAACTCGCTTGGAACAAGGCGATA')\n",
      "('CACCAGCGATGGTTCTGATTTGGG', 'AAACCCCAAATCAGAACCATCGCT')\n",
      "('CACCTGTTCCAAGCGATGGTTCTG', 'AAACCAGAACCATCGCTTGGAACA')\n"
     ]
    }
   ],
   "source": [
    "grna_1 = 'TATCGCCTTGTTCCAAGCGA'\n",
    "grna_2 = 'AGCGATGGTTCTGATTTGGG'\n",
    "grna_3 = 'TGTTCCAAGCGATGGTTCTG'\n",
    "# grna_4 = 'TCAACTTGGAGCCAAAGCTG'\n",
    "\n",
    "print(add_bbs1(grna_1))\n",
    "print(add_bbs1(grna_2))\n",
    "print(add_bbs1(grna_3))\n",
    "# print(add_bbs1(grna_4))"
   ]
  },
  {
   "cell_type": "code",
   "execution_count": null,
   "id": "826c0f63",
   "metadata": {},
   "outputs": [],
   "source": []
  },
  {
   "cell_type": "code",
   "execution_count": null,
   "id": "f74b0115",
   "metadata": {},
   "outputs": [],
   "source": []
  },
  {
   "cell_type": "code",
   "execution_count": null,
   "id": "367d4250",
   "metadata": {},
   "outputs": [],
   "source": []
  },
  {
   "cell_type": "code",
   "execution_count": null,
   "id": "995962a4",
   "metadata": {},
   "outputs": [],
   "source": []
  },
  {
   "cell_type": "code",
   "execution_count": null,
   "id": "ff2b06ce",
   "metadata": {},
   "outputs": [],
   "source": []
  },
  {
   "cell_type": "code",
   "execution_count": null,
   "id": "5287bf25",
   "metadata": {},
   "outputs": [],
   "source": []
  },
  {
   "cell_type": "code",
   "execution_count": null,
   "id": "b7731620",
   "metadata": {},
   "outputs": [],
   "source": []
  },
  {
   "cell_type": "code",
   "execution_count": null,
   "id": "6d090a6e",
   "metadata": {},
   "outputs": [],
   "source": []
  },
  {
   "cell_type": "code",
   "execution_count": null,
   "id": "d9a23bc9",
   "metadata": {},
   "outputs": [],
   "source": []
  }
 ],
 "metadata": {
  "kernelspec": {
   "display_name": "Python 3 (ipykernel)",
   "language": "python",
   "name": "python3"
  },
  "language_info": {
   "codemirror_mode": {
    "name": "ipython",
    "version": 3
   },
   "file_extension": ".py",
   "mimetype": "text/x-python",
   "name": "python",
   "nbconvert_exporter": "python",
   "pygments_lexer": "ipython3",
   "version": "3.9.12"
  }
 },
 "nbformat": 4,
 "nbformat_minor": 5
}
